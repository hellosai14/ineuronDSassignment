{
 "cells": [
  {
   "cell_type": "code",
   "execution_count": 1,
   "id": "ea782aca",
   "metadata": {},
   "outputs": [
    {
     "name": "stdout",
     "output_type": "stream",
     "text": [
      "Best hyperparameters: {'splitter': 'random', 'min_samples_split': 5, 'min_samples_leaf': 4, 'max_depth': None, 'criterion': 'gini'}\n",
      "Decision Tree accuracy on test set: 0.9166666666666666\n"
     ]
    }
   ],
   "source": [
    "# Step 1: Import necessary libraries and load the wine dataset\n",
    "\n",
    "from sklearn.datasets import load_wine\n",
    "from sklearn.model_selection import train_test_split, RandomizedSearchCV\n",
    "from sklearn.tree import DecisionTreeClassifier\n",
    "from sklearn.metrics import accuracy_score\n",
    "from sklearn.model_selection import ShuffleSplit\n",
    "\n",
    "# Load wine dataset\n",
    "wine = load_wine()\n",
    "X, y = wine.data, wine.target\n",
    "\n",
    "# Step 2: Split the dataset into train and test sets\n",
    "X_train, X_test, y_train, y_test = train_test_split(X, y, test_size=0.2, random_state=42)\n",
    "\n",
    "# Step 3: Use random search CV to hyperparameter tune the Decision Tree\n",
    "param_dist = {\n",
    "    'criterion': ['gini', 'entropy'],\n",
    "    'splitter': ['best', 'random'],\n",
    "    'max_depth': [None, 10, 20, 30, 40, 50],\n",
    "    'min_samples_split': [2, 5, 10],\n",
    "    'min_samples_leaf': [1, 2, 4]\n",
    "}\n",
    "\n",
    "dt_classifier = DecisionTreeClassifier()\n",
    "random_search = RandomizedSearchCV(dt_classifier, param_distributions=param_dist, n_iter=100, cv=5, random_state=42)\n",
    "random_search.fit(X_train, y_train)\n",
    "\n",
    "# Best hyperparameters\n",
    "best_params = random_search.best_params_\n",
    "\n",
    "# Step 4: Evaluate the Decision Tree on the test set\n",
    "best_dt_model = random_search.best_estimator_\n",
    "y_pred_dt = best_dt_model.predict(X_test)\n",
    "accuracy_dt = accuracy_score(y_test, y_pred_dt)\n",
    "\n",
    "print(f\"Best hyperparameters: {best_params}\")\n",
    "print(f\"Decision Tree accuracy on test set: {accuracy_dt}\")\n"
   ]
  },
  {
   "cell_type": "code",
   "execution_count": 2,
   "id": "d903a9e1",
   "metadata": {},
   "outputs": [
    {
     "name": "stdout",
     "output_type": "stream",
     "text": [
      "Random Forest average accuracy on test set: 0.9083333333333334\n",
      "Random Forest is not performing better than the single Decision Tree.\n"
     ]
    }
   ],
   "source": [
    "from sklearn.ensemble import RandomForestClassifier\n",
    "\n",
    "# Step 1: Create 10 subsets of the training dataset using ShuffleSplit\n",
    "ss = ShuffleSplit(n_splits=10, test_size=0.2, random_state=42)\n",
    "\n",
    "# Step 2: Train 1 decision tree on each subset using the best hyperparameter values\n",
    "forest_models = []\n",
    "\n",
    "for train_index, _ in ss.split(X_train):\n",
    "    subset_X_train, subset_y_train = X_train[train_index], y_train[train_index]\n",
    "\n",
    "    dt_model = DecisionTreeClassifier(**best_params)\n",
    "    dt_model.fit(subset_X_train, subset_y_train)\n",
    "    \n",
    "    forest_models.append(dt_model)\n",
    "\n",
    "# Step 3: Evaluate all the trees on the test dataset\n",
    "forest_accuracies = []\n",
    "\n",
    "for dt_model in forest_models:\n",
    "    y_pred_rf = dt_model.predict(X_test)\n",
    "    accuracy_rf = accuracy_score(y_test, y_pred_rf)\n",
    "    forest_accuracies.append(accuracy_rf)\n",
    "\n",
    "# Compare with Decision Tree accuracy\n",
    "average_accuracy_rf = sum(forest_accuracies) / len(forest_accuracies)\n",
    "\n",
    "print(f\"Random Forest average accuracy on test set: {average_accuracy_rf}\")\n",
    "\n",
    "# Compare with Decision Tree accuracy\n",
    "if average_accuracy_rf > accuracy_dt:\n",
    "    print(\"Random Forest is performing better than the single Decision Tree.\")\n",
    "else:\n",
    "    print(\"Random Forest is not performing better than the single Decision Tree.\")\n"
   ]
  },
  {
   "cell_type": "code",
   "execution_count": null,
   "id": "584aa571",
   "metadata": {},
   "outputs": [],
   "source": []
  }
 ],
 "metadata": {
  "kernelspec": {
   "display_name": "Python 3 (ipykernel)",
   "language": "python",
   "name": "python3"
  },
  "language_info": {
   "codemirror_mode": {
    "name": "ipython",
    "version": 3
   },
   "file_extension": ".py",
   "mimetype": "text/x-python",
   "name": "python",
   "nbconvert_exporter": "python",
   "pygments_lexer": "ipython3",
   "version": "3.10.9"
  }
 },
 "nbformat": 4,
 "nbformat_minor": 5
}
