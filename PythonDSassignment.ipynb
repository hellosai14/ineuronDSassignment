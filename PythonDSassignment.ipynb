{
 "cells": [
  {
   "cell_type": "markdown",
   "id": "de66f65d",
   "metadata": {},
   "source": [
    "Python Q1."
   ]
  },
  {
   "cell_type": "code",
   "execution_count": 21,
   "id": "5bd78cb5",
   "metadata": {},
   "outputs": [],
   "source": [
    "\n",
    "def generate_output(input_dict):\n",
    "    output = {}\n",
    "    \n",
    "    def recursive_generator(node, path):\n",
    "        if isinstance(node, dict):\n",
    "            for key, value in node.items():\n",
    "                new_path = path + [key]\n",
    "                recursive_generator(value, new_path)\n",
    "        else:\n",
    "            current_dict = output\n",
    "            for i, key in enumerate(path):\n",
    "                current_dict = current_dict.setdefault(key, {} if i < len(path) - 1 else node)\n",
    "\n",
    "    recursive_generator(input_dict, [])\n",
    "    \n",
    "    flattened_output = {}\n",
    "    \n",
    "    def flatten_dict(node, path):\n",
    "        for key, value in node.items():\n",
    "            new_path = path + [key]\n",
    "            if isinstance(value, dict):\n",
    "                flatten_dict(value, new_path)\n",
    "            else:\n",
    "                flattened_output[\".\".join(new_path)] = value\n",
    "    \n",
    "    flatten_dict(output, [])\n",
    "    \n",
    "    final_output = {}\n",
    "    \n",
    "    for key, value in flattened_output.items():\n",
    "        path = key.split(\".\")\n",
    "        for i, _ in enumerate(path):\n",
    "            current_key = \".\".join(path[:i + 1])\n",
    "            current_value = path[i + 1] if i + 1 < len(path) else value\n",
    "            final_output.setdefault(current_key, []).append(current_value)\n",
    "    \n",
    "    return final_output\n",
    "\n"
   ]
  },
  {
   "cell_type": "code",
   "execution_count": 22,
   "id": "c901e461",
   "metadata": {},
   "outputs": [
    {
     "name": "stdout",
     "output_type": "stream",
     "text": [
      "{'abc': ['def'], 'abc.def': ['ghi'], 'abc.def.ghi': ['jkl'], 'abc.def.ghi.jkl': ['mno'], 'abc.def.ghi.jkl.mno': ['pqr'], 'abc.def.ghi.jkl.mno.pqr': ['stu'], 'abc.def.ghi.jkl.mno.pqr.stu': ['vwx'], 'abc.def.ghi.jkl.mno.pqr.stu.vwx': ['yz'], 'abc.def.ghi.jkl.mno.pqr.stu.vwx.yz': ['you are finally here !!!']}\n"
     ]
    }
   ],
   "source": [
    "# Example usage:\n",
    "input_dict = {\"abc\":{\"def\":{\"ghi\":{\"jkl\":{\"mno\":{\"pqr\":{\"stu\":{\"vwx\":{\"yz\":\"you are finally here !!!\"}}}}}}}}}\n",
    "output = generate_output(input_dict)\n",
    "print(output)\n"
   ]
  },
  {
   "cell_type": "markdown",
   "id": "494813eb",
   "metadata": {},
   "source": [
    "Python \n",
    "Q2."
   ]
  },
  {
   "cell_type": "code",
   "execution_count": 33,
   "id": "f4263492",
   "metadata": {},
   "outputs": [
    {
     "name": "stdout",
     "output_type": "stream",
     "text": [
      "3\n"
     ]
    }
   ],
   "source": [
    "   def largest_min_distance(array, k):\n",
    "    array.sort()\n",
    "\n",
    "    def is_valid_distance(mid):\n",
    "        count = 1\n",
    "        last_position = array[0]\n",
    "\n",
    "        for i in range(1, len(array)):\n",
    "            if array[i] - last_position >= mid:\n",
    "                count += 1\n",
    "                last_position = array[i]\n",
    "\n",
    "        return count >= k\n",
    "\n",
    "    low, high = 0, array[-1] - array[0]\n",
    "\n",
    "    result = 0\n",
    "\n",
    "    while low <= high:\n",
    "        mid = (low + high) // 2\n",
    "\n",
    "        if is_valid_distance(mid):\n",
    "            result = mid\n",
    "            low = mid + 1\n",
    "        else:\n",
    "            high = mid - 1\n",
    "\n",
    "    return result\n",
    "\n",
    "\n",
    "\n",
    "\n"
   ]
  },
  {
   "cell_type": "code",
   "execution_count": 34,
   "id": "a8b0c7dc",
   "metadata": {},
   "outputs": [
    {
     "name": "stdout",
     "output_type": "stream",
     "text": [
      "3\n"
     ]
    }
   ],
   "source": [
    "\n",
    "array = [1, 2, 4, 8, 9]\n",
    "k = 3\n",
    "result = largest_min_distance(array, k)\n",
    "print(result)"
   ]
  },
  {
   "cell_type": "markdown",
   "id": "f2a7e4b6",
   "metadata": {},
   "source": [
    "#Python Q.3"
   ]
  },
  {
   "cell_type": "code",
   "execution_count": 35,
   "id": "1025fe05",
   "metadata": {},
   "outputs": [
    {
     "name": "stdout",
     "output_type": "stream",
     "text": [
      "---------.|.---------\n",
      "------.|..|..|.------\n",
      "---.|..|..|..|..|.---\n",
      "-------WELCOME-------\n",
      "---.|..|..|..|..|.---\n",
      "------.|..|..|.------\n",
      "---------.|.---------\n"
     ]
    }
   ],
   "source": [
    "def print_welcome_mat(N, M):\n",
    "    pattern = \".|.\"\n",
    "\n",
    "    \n",
    "    for i in range(1, N, 2):\n",
    "        print((pattern * i).center(M, '-'))\n",
    "\n",
    "    \n",
    "    print(\"WELCOME\".center(M, '-'))\n",
    "\n",
    "    \n",
    "    for i in range(N - 2, 0, -2):\n",
    "        print((pattern * i).center(M, '-'))\n",
    "\n",
    "\n",
    "N = 7  \n",
    "M = 3 * N\n",
    "print_welcome_mat(N, M)\n"
   ]
  },
  {
   "cell_type": "markdown",
   "id": "067ef404",
   "metadata": {},
   "source": [
    "#Q.4"
   ]
  },
  {
   "cell_type": "code",
   "execution_count": 37,
   "id": "2575be8a",
   "metadata": {},
   "outputs": [
    {
     "name": "stdout",
     "output_type": "stream",
     "text": [
      "[[-2, -1, 1, 2], [-2, 0, 0, 2], [-1, 0, 0, 1]]\n"
     ]
    }
   ],
   "source": [
    "def four_sum(nums, target):\n",
    "    result = []\n",
    "    nums.sort()\n",
    "\n",
    "    n = len(nums)\n",
    "\n",
    "    for i in range(n - 3):\n",
    "        if i > 0 and nums[i] == nums[i - 1]:\n",
    "            continue\n",
    "\n",
    "        for j in range(i + 1, n - 2):\n",
    "            if j > i + 1 and nums[j] == nums[j - 1]:\n",
    "                continue\n",
    "\n",
    "            left, right = j + 1, n - 1\n",
    "\n",
    "            while left < right:\n",
    "                current_sum = nums[i] + nums[j] + nums[left] + nums[right]\n",
    "\n",
    "                if current_sum == target:\n",
    "                    result.append([nums[i], nums[j], nums[left], nums[right]])\n",
    "\n",
    "                    # Skip duplicates for the third and fourth elements\n",
    "                    while left < right and nums[left] == nums[left + 1]:\n",
    "                        left += 1\n",
    "                    while left < right and nums[right] == nums[right - 1]:\n",
    "                        right -= 1\n",
    "\n",
    "                    left += 1\n",
    "                    right -= 1\n",
    "                elif current_sum < target:\n",
    "                    left += 1\n",
    "                else:\n",
    "                    right -= 1\n",
    "\n",
    "    return result\n",
    "\n",
    "\n",
    "nums = [1, 0, -1, 0, -2, 2]\n",
    "target = 0\n",
    "result = four_sum(nums, target)\n",
    "print(result)\n"
   ]
  },
  {
   "cell_type": "code",
   "execution_count": null,
   "id": "414c3910",
   "metadata": {},
   "outputs": [],
   "source": []
  }
 ],
 "metadata": {
  "kernelspec": {
   "display_name": "Python 3 (ipykernel)",
   "language": "python",
   "name": "python3"
  },
  "language_info": {
   "codemirror_mode": {
    "name": "ipython",
    "version": 3
   },
   "file_extension": ".py",
   "mimetype": "text/x-python",
   "name": "python",
   "nbconvert_exporter": "python",
   "pygments_lexer": "ipython3",
   "version": "3.10.9"
  }
 },
 "nbformat": 4,
 "nbformat_minor": 5
}
